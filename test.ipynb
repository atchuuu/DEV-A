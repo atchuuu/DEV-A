import requests
import json

API_TOKEN = 'your_api_key'
API_URL = "https://api-inference.huggingface.co/models/Qwen/Qwen2.5-Coder-32B-Instruct"
HEADERS = {'Authorization': f'Bearer {API_TOKEN}'}

CHATBOT_NAME = "Deva"
DESCRIPTION = "A chatbot that stays up-to-date with the latest gaming trends and speaks like a gaming enthusiast."
KNOWLEDGE_BASE = ["recent games", "gaming slang", "gaming news"]

def create_prompt(user_input):
    
    knowledge = ", ".join(KNOWLEDGE_BASE)
    prompt = (f"{CHATBOT_NAME} is a chatbot designed to stay up-to-date with the latest gaming trends. "
              f"{CHATBOT_NAME} is knowledgeable about {knowledge}. "
              f"{CHATBOT_NAME} responds to user queries in a gaming enthusiast style.\n\n"
              f"User: {user_input}\n"
              f"{CHATBOT_NAME}: ")
    return prompt

def query_gpt2(prompt):
    try:
        
        response = requests.post(API_URL, headers=HEADERS, json={"inputs": prompt})
        response.raise_for_status()  
        response_json = response.json()
        print("Raw response:", response_json)  

        # Parse response based on structure
        if isinstance(response_json, list) and 'generated_text' in response_json[0]:
            return response_json[0]['generated_text']
        elif isinstance(response_json, dict) and 'generated_text' in response_json:
            return response_json['generated_text']
        else:
            return "No response from the model."

    except requests.exceptions.RequestException as e:
        print(f"An error occurred: {e}")
        return "Sorry, I couldn't process your request at the moment."

def chat():
    print("Chatbot is ready to talk! Type 'exit' to end the chat.")
    while True:
        user_input = input("You: ")
        if user_input.lower() == 'exit':
            print("Goodbye!")
            break
        prompt = create_prompt(user_input)
        response = query_gpt2(prompt)
        print(f"{CHATBOT_NAME}: {response}")

if __name__ == "__main__":
    chat()
